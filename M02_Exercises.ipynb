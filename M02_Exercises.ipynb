{
 "cells": [
  {
   "cell_type": "markdown",
   "id": "7817cdf7",
   "metadata": {},
   "source": [
    "# M02 Exercises\n",
    "Aubrey Winger and Minah Kim"
   ]
  },
  {
   "cell_type": "markdown",
   "id": "77d5a1c9",
   "metadata": {},
   "source": [
    "Exercise 2.2"
   ]
  },
  {
   "cell_type": "code",
   "execution_count": 1,
   "id": "5cc12ce9",
   "metadata": {},
   "outputs": [
    {
     "name": "stdout",
     "output_type": "stream",
     "text": [
      "2\n"
     ]
    }
   ],
   "source": [
    "lst = [1,2,3,4,5]\n",
    "print(lst[1])"
   ]
  },
  {
   "cell_type": "markdown",
   "id": "5375274f",
   "metadata": {},
   "source": [
    "Exercise 2.4"
   ]
  },
  {
   "cell_type": "code",
   "execution_count": 2,
   "id": "58ac6c03",
   "metadata": {},
   "outputs": [
    {
     "data": {
      "text/plain": [
       "True"
      ]
     },
     "execution_count": 2,
     "metadata": {},
     "output_type": "execute_result"
    }
   ],
   "source": [
    "string = \"bar\"\n",
    "var = {\"peanut\",\"bar\"}\n",
    "string in var"
   ]
  },
  {
   "cell_type": "markdown",
   "id": "22cf154b",
   "metadata": {},
   "source": [
    "Exercise 2.6\n",
    "[-5 -3 -1 1 3]"
   ]
  },
  {
   "cell_type": "code",
   "execution_count": 3,
   "id": "19a629d4",
   "metadata": {},
   "outputs": [
    {
     "name": "stdout",
     "output_type": "stream",
     "text": [
      "-5\n",
      "-3\n",
      "-1\n",
      "1\n",
      "3\n"
     ]
    }
   ],
   "source": [
    "for rn in range(-5, 5, 2):\n",
    "    print(rn)"
   ]
  },
  {
   "cell_type": "markdown",
   "id": "ca00583c",
   "metadata": {},
   "source": [
    "Exercise 2.8"
   ]
  },
  {
   "cell_type": "code",
   "execution_count": 4,
   "id": "314857fa",
   "metadata": {},
   "outputs": [
    {
     "name": "stdout",
     "output_type": "stream",
     "text": [
      "4\n"
     ]
    }
   ],
   "source": [
    "list_var = [3,2.5,True,\"heya\"]\n",
    "print(len(list_var))"
   ]
  },
  {
   "cell_type": "markdown",
   "id": "6591e013",
   "metadata": {},
   "source": [
    "Exercise 2.10"
   ]
  },
  {
   "cell_type": "code",
   "execution_count": 5,
   "id": "389986d2",
   "metadata": {},
   "outputs": [
    {
     "name": "stdout",
     "output_type": "stream",
     "text": [
      "False\n"
     ]
    }
   ],
   "source": [
    "var1 = 2\n",
    "var2 = 4\n",
    "var3 = var1+var2\n",
    "print(var3==5)"
   ]
  },
  {
   "cell_type": "markdown",
   "id": "6db9bce2",
   "metadata": {},
   "source": [
    "Example 3.1"
   ]
  },
  {
   "cell_type": "markdown",
   "id": "f5932448",
   "metadata": {},
   "source": [
    "It doesn't print anything, could fix the problem by making the elif statement an if statement and then making an else catchall statement that puts all the remaining values into bucket 4."
   ]
  },
  {
   "cell_type": "markdown",
   "id": "10827f8c",
   "metadata": {},
   "source": [
    "Exercise 3.3"
   ]
  },
  {
   "cell_type": "code",
   "execution_count": 8,
   "id": "2c1dcc42",
   "metadata": {},
   "outputs": [
    {
     "name": "stdout",
     "output_type": "stream",
     "text": [
      "0\n",
      "10\n",
      "20\n",
      "30\n",
      "40\n",
      "50\n",
      "60\n",
      "70\n",
      "80\n",
      "90\n"
     ]
    }
   ],
   "source": [
    "it = 0\n",
    "max_iter = 100\n",
    "while it<max_iter:\n",
    "    if it==0 or it%10==0:\n",
    "        print(it)\n",
    "    it+=1"
   ]
  },
  {
   "cell_type": "markdown",
   "id": "cbe05baf",
   "metadata": {},
   "source": [
    "Exercise 3.5"
   ]
  },
  {
   "cell_type": "code",
   "execution_count": 11,
   "id": "d87801b7",
   "metadata": {},
   "outputs": [
    {
     "name": "stdout",
     "output_type": "stream",
     "text": [
      "Hello\n",
      "GoOdByE\n",
      "PeAnUT\n"
     ]
    }
   ],
   "source": [
    "list_str = [\"Hello\", \"GoOdByE\", \"PeAnUT\"]\n",
    "var = iter(list_str)\n",
    "print(next(var))\n",
    "print(next(var))\n",
    "print(next(var))"
   ]
  },
  {
   "cell_type": "code",
   "execution_count": 15,
   "id": "65fec5c5",
   "metadata": {},
   "outputs": [
    {
     "name": "stdout",
     "output_type": "stream",
     "text": [
      "Bob 5\n",
      "John 10\n",
      "Susan 12\n"
     ]
    }
   ],
   "source": [
    "dict_var = {\"Bob\":5,\"John\":10,\"Susan\":12}\n",
    "for i in dict_var.keys():\n",
    "    print(i,dict_var[i])"
   ]
  },
  {
   "cell_type": "markdown",
   "id": "0c121d2b",
   "metadata": {},
   "source": [
    "Exercise 3.9"
   ]
  },
  {
   "cell_type": "code",
   "execution_count": 19,
   "id": "855b423b",
   "metadata": {},
   "outputs": [
    {
     "name": "stdout",
     "output_type": "stream",
     "text": [
      "['4']\n"
     ]
    }
   ],
   "source": [
    "var_list = ['4','happy']\n",
    "x =[st for st in var_list if st.isdigit()]\n",
    "print(x)"
   ]
  },
  {
   "cell_type": "code",
   "execution_count": null,
   "id": "93993945",
   "metadata": {},
   "outputs": [],
   "source": []
  }
 ],
 "metadata": {
  "kernelspec": {
   "display_name": "Python 3 (ipykernel)",
   "language": "python",
   "name": "python3"
  },
  "language_info": {
   "codemirror_mode": {
    "name": "ipython",
    "version": 3
   },
   "file_extension": ".py",
   "mimetype": "text/x-python",
   "name": "python",
   "nbconvert_exporter": "python",
   "pygments_lexer": "ipython3",
   "version": "3.9.12"
  }
 },
 "nbformat": 4,
 "nbformat_minor": 5
}
