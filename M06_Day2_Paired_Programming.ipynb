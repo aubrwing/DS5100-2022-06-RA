{
 "cells": [
  {
   "cell_type": "markdown",
   "id": "717b9b4d-877c-488c-a600-a56a3f34a9b5",
   "metadata": {},
   "source": [
    "Exercise"
   ]
  },
  {
   "cell_type": "code",
   "execution_count": 10,
   "id": "d6366edd-8692-4db2-9b21-f578a56c696e",
   "metadata": {},
   "outputs": [],
   "source": [
    "import numpy as np\n",
    "\n",
    "def rollDie(n,m=6,sort=False):\n",
    "    lst = np.random.randint(1,m,n)\n",
    "    lst = lst.tolist()\n",
    "    if sort==True:\n",
    "        lst = sorted(lst,reverse=True)\n",
    "    return lst"
   ]
  },
  {
   "cell_type": "code",
   "execution_count": 12,
   "id": "29700145-ccb9-4c54-9916-8727d84af03f",
   "metadata": {},
   "outputs": [
    {
     "name": "stdout",
     "output_type": "stream",
     "text": [
      "[5, 4, 4, 3, 3, 3, 2, 1, 1, 1]\n"
     ]
    }
   ],
   "source": [
    "test = rollDie(10,6,True)\n",
    "print(test)"
   ]
  },
  {
   "cell_type": "code",
   "execution_count": 14,
   "id": "483ab5b8-acb1-4f04-9cdb-5c514796b16f",
   "metadata": {},
   "outputs": [],
   "source": [
    "def determinant(mat):\n",
    "    return np.linalg.det(mat)"
   ]
  },
  {
   "cell_type": "code",
   "execution_count": 20,
   "id": "b2849071-8d29-44ae-b153-21c5ec700cd2",
   "metadata": {},
   "outputs": [
    {
     "name": "stdout",
     "output_type": "stream",
     "text": [
      "9.999999999999998\n"
     ]
    }
   ],
   "source": [
    "print(determinant([[1,2,3], [6,7,9], [3, 6,7]]))"
   ]
  },
  {
   "cell_type": "code",
   "execution_count": 23,
   "id": "6b33b6c2-e35a-497d-a280-8ce9a024c231",
   "metadata": {},
   "outputs": [
    {
     "name": "stdout",
     "output_type": "stream",
     "text": [
      "[[16 19]\n",
      " [32 38]]\n"
     ]
    }
   ],
   "source": [
    "mat1 = np.matrix([[1,2],[2,4]])\n",
    "mat2 = np.matrix([[4,5],[6,7]])\n",
    "mat3 = mat1@mat2\n",
    "print(mat3)"
   ]
  },
  {
   "cell_type": "code",
   "execution_count": 24,
   "id": "1e706eb7-01ac-4fe1-9a4c-0d9807a34a7e",
   "metadata": {},
   "outputs": [
    {
     "data": {
      "text/plain": [
       "5.0"
      ]
     },
     "execution_count": 24,
     "metadata": {},
     "output_type": "execute_result"
    }
   ],
   "source": [
    "np.linalg.norm(mat1)"
   ]
  },
  {
   "cell_type": "code",
   "execution_count": null,
   "id": "f5cabe60-0338-464e-8add-0ee9a17b2b57",
   "metadata": {},
   "outputs": [],
   "source": []
  }
 ],
 "metadata": {
  "kernelspec": {
   "display_name": "Python 3 (ipykernel)",
   "language": "python",
   "name": "python3"
  },
  "language_info": {
   "codemirror_mode": {
    "name": "ipython",
    "version": 3
   },
   "file_extension": ".py",
   "mimetype": "text/x-python",
   "name": "python",
   "nbconvert_exporter": "python",
   "pygments_lexer": "ipython3",
   "version": "3.9.12"
  }
 },
 "nbformat": 4,
 "nbformat_minor": 5
}
