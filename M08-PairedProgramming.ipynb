{
 "cells": [
  {
   "cell_type": "markdown",
   "id": "8c10335b-c9e7-48c5-8d05-ccbfb09eda06",
   "metadata": {},
   "source": [
    "Exercise 8.1"
   ]
  },
  {
   "cell_type": "code",
   "execution_count": 60,
   "id": "3a99c12a-23ec-456a-b07f-30f4ad6c19c5",
   "metadata": {},
   "outputs": [],
   "source": [
    "class Hello():\n",
    "    \"\"\"\n",
    "    says hello\n",
    "    \"\"\"\n",
    "    howdy = \"howdy\"\n",
    "    hello = \"hello\"\n",
    "    def __init__(self,hi,welcome):\n",
    "        self.hi = hi\n",
    "        self.welcome = welcome\n",
    "    def print_welcome(self):\n",
    "        print(self.welcome)\n",
    "    def print_hi(self):\n",
    "        print(self.hi)"
   ]
  },
  {
   "cell_type": "markdown",
   "id": "d14ea8a2-8483-42bb-9873-2dfa8326221e",
   "metadata": {},
   "source": [
    "Exercise 8.2"
   ]
  },
  {
   "cell_type": "code",
   "execution_count": 61,
   "id": "11e96512-c5a9-4b92-8098-7678e1cfc37a",
   "metadata": {},
   "outputs": [],
   "source": [
    "helloclass = Hello(\"hi\",\"welcome\")"
   ]
  },
  {
   "cell_type": "code",
   "execution_count": 62,
   "id": "ddb8dd94-dde8-47fd-a577-3d21a2494022",
   "metadata": {},
   "outputs": [
    {
     "name": "stdout",
     "output_type": "stream",
     "text": [
      "welcome\n"
     ]
    }
   ],
   "source": [
    "helloclass.print_welcome()"
   ]
  },
  {
   "cell_type": "code",
   "execution_count": 63,
   "id": "94a7b465-f5d4-4417-a91b-2ce750a261e6",
   "metadata": {},
   "outputs": [
    {
     "name": "stdout",
     "output_type": "stream",
     "text": [
      "hi\n"
     ]
    }
   ],
   "source": [
    "helloclass.print_hi()"
   ]
  },
  {
   "cell_type": "code",
   "execution_count": 64,
   "id": "45ba053c-4381-4c21-bc42-abf1b49fe9b0",
   "metadata": {},
   "outputs": [
    {
     "data": {
      "text/plain": [
       "'howdy'"
      ]
     },
     "execution_count": 64,
     "metadata": {},
     "output_type": "execute_result"
    }
   ],
   "source": [
    "helloclass.howdy"
   ]
  },
  {
   "cell_type": "code",
   "execution_count": 65,
   "id": "44e2b596-ea41-4a9b-9992-9e22cdb760c5",
   "metadata": {},
   "outputs": [
    {
     "data": {
      "text/plain": [
       "'hello'"
      ]
     },
     "execution_count": 65,
     "metadata": {},
     "output_type": "execute_result"
    }
   ],
   "source": [
    "helloclass.hello"
   ]
  },
  {
   "cell_type": "markdown",
   "id": "d5c21a45-ea80-40c6-a341-1672d6c9acbb",
   "metadata": {},
   "source": [
    "Exercise 8.3"
   ]
  },
  {
   "cell_type": "code",
   "execution_count": 66,
   "id": "19956374-4493-4472-9269-473e926b1fd3",
   "metadata": {},
   "outputs": [],
   "source": [
    "import pandas as pd\n",
    "import numpy as np\n",
    "class Student():\n",
    "    gradebook = pd.Series(dtype=float)\n",
    "    def __init__(self, name,studID):\n",
    "        self.name = name\n",
    "        self.studID = studID\n",
    "    def addAssign(self,assignment, grade):\n",
    "        self.gradebook.loc[assignment]=grade\n",
    "        print(self.gradebook)\n",
    "    def barChart(self):\n",
    "        self.gradebook.plot.bar(title=f\"Grades for {self.name} ({self.studID})\")"
   ]
  },
  {
   "cell_type": "code",
   "execution_count": 67,
   "id": "4b0bfc95-ff04-42ce-a7f4-fd68639ca768",
   "metadata": {},
   "outputs": [],
   "source": [
    "aubrey = Student('Aubrey Winger',5)"
   ]
  },
  {
   "cell_type": "code",
   "execution_count": 68,
   "id": "b511b6c9-9a10-413f-bc70-96d27e8bbf64",
   "metadata": {},
   "outputs": [
    {
     "name": "stdout",
     "output_type": "stream",
     "text": [
      "hw01    100\n",
      "dtype: int64\n"
     ]
    }
   ],
   "source": [
    "aubrey.addAssign(\"hw01\",100)"
   ]
  },
  {
   "cell_type": "code",
   "execution_count": 69,
   "id": "249a2a70-9fed-4a5a-a64b-7f0ddf8a195b",
   "metadata": {},
   "outputs": [
    {
     "data": {
      "image/png": "[encoded data removed]",
      "text/plain": [
       "<Figure size 432x288 with 1 Axes>"
      ]
     },
     "metadata": {
      "needs_background": "light"
     },
     "output_type": "display_data"
    }
   ],
   "source": [
    "aubrey.barChart()"
   ]
  },
  {
   "cell_type": "markdown",
   "id": "84d7460d-d47e-4882-acf2-70ef706fc606",
   "metadata": {},
   "source": [
    "Exercise 8.4"
   ]
  },
  {
   "cell_type": "code",
   "execution_count": 70,
   "id": "1bbca3a3-d052-40a6-bc29-87507f756732",
   "metadata": {},
   "outputs": [],
   "source": [
    "class v3():\n",
    "    def add_disk_space(self, amt_to_add):\n",
    "        self.disk_space += amt_to_add\n",
    "    def has_enough_disk_space(self, amt_required):\n",
    "        print(f\"Is amount of required space available? {self.disk_space>=amt_required}\")\n",
    "    def __init__(self, instance_size, num_vcpus, memory, disk_space):\n",
    "        self.instance_size = instance_size\n",
    "        self.num_vcpus = num_vcpus\n",
    "        self.memory = memory\n",
    "        self.disk_space = disk_space"
   ]
  },
  {
   "cell_type": "code",
   "execution_count": 71,
   "id": "1c760e75-95ae-472f-95b6-ddd4aceb99ff",
   "metadata": {},
   "outputs": [],
   "source": [
    "myComput = v3(\"large\",32,256,1.)"
   ]
  },
  {
   "cell_type": "code",
   "execution_count": 72,
   "id": "46851c6a-8195-4898-8bc7-d6f0c5990dfe",
   "metadata": {},
   "outputs": [
    {
     "data": {
      "text/plain": [
       "3.0"
      ]
     },
     "execution_count": 72,
     "metadata": {},
     "output_type": "execute_result"
    }
   ],
   "source": [
    "myComput.add_disk_space(2.)\n",
    "myComput.disk_space"
   ]
  },
  {
   "cell_type": "code",
   "execution_count": 73,
   "id": "c4c5a7f1-daa0-4021-a9b1-26bc4789720e",
   "metadata": {},
   "outputs": [
    {
     "name": "stdout",
     "output_type": "stream",
     "text": [
      "Is amount of required space available? False\n"
     ]
    }
   ],
   "source": [
    "myComput.has_enough_disk_space(10.)"
   ]
  },
  {
   "cell_type": "code",
   "execution_count": 78,
   "id": "6c6b5783-54e9-4fe0-bf07-4b64572cea7f",
   "metadata": {},
   "outputs": [],
   "source": [
    "class Circle():\n",
    "    def __init__(self, radius):\n",
    "        self.radius = radius\n",
    "    def area(self):\n",
    "        print(3.14*(self.radius**2))\n",
    "    def perimeter(self):\n",
    "        print(2*3.14*self.radius)"
   ]
  },
  {
   "cell_type": "code",
   "execution_count": 79,
   "id": "5a2a73d6-6df4-4c0f-8e17-0ed908236f45",
   "metadata": {},
   "outputs": [],
   "source": [
    "circ = Circle(7)"
   ]
  },
  {
   "cell_type": "code",
   "execution_count": 80,
   "id": "90e32539-2b58-41f6-a882-5b4255b19d00",
   "metadata": {},
   "outputs": [
    {
     "name": "stdout",
     "output_type": "stream",
     "text": [
      "153.86\n"
     ]
    }
   ],
   "source": [
    "circ.area()"
   ]
  },
  {
   "cell_type": "code",
   "execution_count": 81,
   "id": "4c08643a-cecf-4c96-b083-2a54c4cd27a5",
   "metadata": {},
   "outputs": [
    {
     "name": "stdout",
     "output_type": "stream",
     "text": [
      "43.96\n"
     ]
    }
   ],
   "source": [
    "circ.perimeter()"
   ]
  },
  {
   "cell_type": "code",
   "execution_count": null,
   "id": "34349119-4768-4309-920b-de1a9f8d773c",
   "metadata": {},
   "outputs": [],
   "source": []
  }
 ],
 "metadata": {
  "kernelspec": {
   "display_name": "Python 3 (ipykernel)",
   "language": "python",
   "name": "python3"
  },
  "language_info": {
   "codemirror_mode": {
    "name": "ipython",
    "version": 3
   },
   "file_extension": ".py",
   "mimetype": "text/x-python",
   "name": "python",
   "nbconvert_exporter": "python",
   "pygments_lexer": "ipython3",
   "version": "3.9.12"
  }
 },
 "nbformat": 4,
 "nbformat_minor": 5
}
