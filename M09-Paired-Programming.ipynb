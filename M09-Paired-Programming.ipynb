{
 "cells": [
  {
   "cell_type": "markdown",
   "id": "069e5cc2-e5b8-459f-8b63-79c3e4c9e32c",
   "metadata": {},
   "source": [
    "Exercise 9.1"
   ]
  },
  {
   "cell_type": "code",
   "execution_count": 1,
   "id": "c0b7c8b6-9efd-4d09-8a62-7b024f1d1b24",
   "metadata": {},
   "outputs": [
    {
     "name": "stdout",
     "output_type": "stream",
     "text": [
      "caught an exception!\n"
     ]
    }
   ],
   "source": [
    "try:\n",
    "    a = 3+\"b\"\n",
    "    print(a)\n",
    "except:\n",
    "    print(\"caught an exception!\")"
   ]
  },
  {
   "cell_type": "markdown",
   "id": "21b5110a-9e1c-4bcc-a672-cc5fb8aeefe8",
   "metadata": {},
   "source": [
    "Exercise 9.2"
   ]
  },
  {
   "cell_type": "code",
   "execution_count": 5,
   "id": "b705ed56-9224-423a-93e1-cf71863825c2",
   "metadata": {},
   "outputs": [
    {
     "ename": "AssertionError",
     "evalue": "",
     "output_type": "error",
     "traceback": [
      "\u001b[0;31m---------------------------------------------------------------------------\u001b[0m",
      "\u001b[0;31mAssertionError\u001b[0m                            Traceback (most recent call last)",
      "Input \u001b[0;32mIn [5]\u001b[0m, in \u001b[0;36m<cell line: 5>\u001b[0;34m()\u001b[0m\n\u001b[1;32m      3\u001b[0m \u001b[38;5;28;01massert\u001b[39;00m test\n\u001b[1;32m      4\u001b[0m test \u001b[38;5;241m=\u001b[39m \u001b[38;5;28;01mFalse\u001b[39;00m\n\u001b[0;32m----> 5\u001b[0m \u001b[38;5;28;01massert\u001b[39;00m test\n",
      "\u001b[0;31mAssertionError\u001b[0m: "
     ]
    }
   ],
   "source": [
    "import unittest\n",
    "test = True\n",
    "assert test\n",
    "test = False\n",
    "assert test"
   ]
  },
  {
   "cell_type": "markdown",
   "id": "0b1cc4d3-4142-42b8-83a5-2cf0a543620c",
   "metadata": {},
   "source": []
  }
 ],
 "metadata": {
  "kernelspec": {
   "display_name": "Python 3 (ipykernel)",
   "language": "python",
   "name": "python3"
  },
  "language_info": {
   "codemirror_mode": {
    "name": "ipython",
    "version": 3
   },
   "file_extension": ".py",
   "mimetype": "text/x-python",
   "name": "python",
   "nbconvert_exporter": "python",
   "pygments_lexer": "ipython3",
   "version": "3.9.12"
  }
 },
 "nbformat": 4,
 "nbformat_minor": 5
}
