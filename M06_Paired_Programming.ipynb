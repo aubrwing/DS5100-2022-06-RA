{
 "cells": [
  {
   "cell_type": "markdown",
   "id": "3f723361-36fd-4969-b0f4-f95c5498bc94",
   "metadata": {},
   "source": [
    "Exercise 9.1"
   ]
  },
  {
   "cell_type": "code",
   "execution_count": 7,
   "id": "6f0aa1dc-2a29-4e66-8a4f-78e092aefbae",
   "metadata": {},
   "outputs": [
    {
     "name": "stdout",
     "output_type": "stream",
     "text": [
      "0.030778884887695312\n"
     ]
    }
   ],
   "source": [
    "import time\n",
    "start = time.time()\n",
    "lst = []\n",
    "for i in range(1,100001):\n",
    "    if i%2!=0:\n",
    "        lst.append(i*-1)\n",
    "    else:\n",
    "        lst.append(i)\n",
    "end = time.time()\n",
    "total_time = end-start\n",
    "print(total_time)"
   ]
  },
  {
   "cell_type": "markdown",
   "id": "750be413-215d-423b-8cb3-81eb643095bc",
   "metadata": {},
   "source": [
    "Exercise 9.2"
   ]
  },
  {
   "cell_type": "code",
   "execution_count": 10,
   "id": "56ca7d10-b64f-4ea4-bacf-2892b1684b29",
   "metadata": {},
   "outputs": [],
   "source": [
    "lst = [i*-1 if i%2!=0 else i for i in range(1,10001)]"
   ]
  },
  {
   "cell_type": "markdown",
   "id": "278569ab-a914-4da9-a9ab-6f85e9a49b14",
   "metadata": {},
   "source": [
    "Exercise 9.3"
   ]
  },
  {
   "cell_type": "code",
   "execution_count": 15,
   "id": "45b33c93-0548-468c-a612-44012984c792",
   "metadata": {},
   "outputs": [],
   "source": [
    "import numpy as np\n",
    "rand = [np.random.randint(1,7) for i in range(10)]"
   ]
  },
  {
   "cell_type": "markdown",
   "id": "f106f567-9bab-44cc-87a9-770454318a94",
   "metadata": {},
   "source": [
    "Exercise 9.4"
   ]
  },
  {
   "cell_type": "code",
   "execution_count": 19,
   "id": "4eb07b57-5db1-45a6-9430-74b73a46a168",
   "metadata": {},
   "outputs": [
    {
     "data": {
      "text/plain": [
       "int"
      ]
     },
     "execution_count": 19,
     "metadata": {},
     "output_type": "execute_result"
    }
   ],
   "source": [
    "randint = np.random.randint(0,15)\n",
    "type(randint)"
   ]
  },
  {
   "cell_type": "code",
   "execution_count": 21,
   "id": "e8d4529b-b062-49c0-a244-f9c04787c23f",
   "metadata": {},
   "outputs": [
    {
     "data": {
      "text/plain": [
       "numpy.ndarray"
      ]
     },
     "execution_count": 21,
     "metadata": {},
     "output_type": "execute_result"
    }
   ],
   "source": [
    "randlist = np.random.randint(1,21,5)\n",
    "type(randlist)"
   ]
  },
  {
   "cell_type": "markdown",
   "id": "02142631-8822-4276-a568-b9d63f476a72",
   "metadata": {},
   "source": [
    "Exercise 9.5"
   ]
  },
  {
   "cell_type": "code",
   "execution_count": 22,
   "id": "994ec564-7778-4a4d-a094-68d59dfd0442",
   "metadata": {},
   "outputs": [
    {
     "data": {
      "text/plain": [
       "(array([1., 0., 0., 0., 0., 0., 0., 2., 1., 1.]),\n",
       " array([ 5. ,  5.7,  6.4,  7.1,  7.8,  8.5,  9.2,  9.9, 10.6, 11.3, 12. ]),\n",
       " <BarContainer object of 10 artists>)"
      ]
     },
     "execution_count": 22,
     "metadata": {},
     "output_type": "execute_result"
    },
    {
     "data": {
      "image/png": "[encoded data removed]",
      "text/plain": [
       "<Figure size 432x288 with 1 Axes>"
      ]
     },
     "metadata": {
      "needs_background": "light"
     },
     "output_type": "display_data"
    }
   ],
   "source": [
    "from matplotlib.pyplot import hist\n",
    "hist(randlist)"
   ]
  },
  {
   "cell_type": "markdown",
   "id": "ef1d3533-e2ef-401a-8763-c6ddec4de424",
   "metadata": {},
   "source": [
    "Exercise 9.6"
   ]
  },
  {
   "cell_type": "code",
   "execution_count": 24,
   "id": "cf68e0d8-03e7-4d24-be22-cb48701a32c8",
   "metadata": {},
   "outputs": [
    {
     "name": "stdout",
     "output_type": "stream",
     "text": [
      "[[-0.83196931  1.90847111  1.27735616]\n",
      " [-0.12493897 -0.29317261  0.54670027]]\n"
     ]
    }
   ],
   "source": [
    "mat = np.random.randn(2,3)\n",
    "print(mat)"
   ]
  },
  {
   "cell_type": "code",
   "execution_count": 25,
   "id": "37b87e2c-8f09-4554-89a3-28d27dfd7c67",
   "metadata": {},
   "outputs": [
    {
     "data": {
      "text/plain": [
       "array([[-1.66393862,  3.81694221,  2.55471233],\n",
       "       [-0.24987794, -0.58634523,  1.09340053]])"
      ]
     },
     "execution_count": 25,
     "metadata": {},
     "output_type": "execute_result"
    }
   ],
   "source": [
    "mat*2"
   ]
  },
  {
   "cell_type": "code",
   "execution_count": 27,
   "id": "33ba9eec-4200-4a1a-9ff3-08d18d28e315",
   "metadata": {},
   "outputs": [
    {
     "name": "stdout",
     "output_type": "stream",
     "text": [
      "[[-3.32787724  7.63388443  5.10942466]\n",
      " [-0.49975588 -1.17269045  2.18680107]]\n"
     ]
    }
   ],
   "source": [
    "mat +=mat\n",
    "print(mat)"
   ]
  },
  {
   "cell_type": "code",
   "execution_count": 28,
   "id": "3e018d34-0e8f-4827-a4be-3f45da3e47b3",
   "metadata": {},
   "outputs": [],
   "source": [
    "mat = 1/mat"
   ]
  },
  {
   "cell_type": "code",
   "execution_count": 29,
   "id": "abb81fe9-1a8c-4b83-a148-d432da0214a4",
   "metadata": {},
   "outputs": [
    {
     "name": "stdout",
     "output_type": "stream",
     "text": [
      "[[-0.30049185  0.13099491  0.19571675]\n",
      " [-2.00097695 -0.85273995  0.45728897]]\n"
     ]
    }
   ],
   "source": [
    "print(mat)"
   ]
  },
  {
   "cell_type": "code",
   "execution_count": 31,
   "id": "c3d77edf-7dc2-47bf-aaf7-666dc414767a",
   "metadata": {},
   "outputs": [],
   "source": [
    "zero = np.zeros((2,4))\n",
    "one = np.ones((2,4))"
   ]
  },
  {
   "cell_type": "code",
   "execution_count": 32,
   "id": "c9f472ff-9749-410b-b530-d0053136cd05",
   "metadata": {},
   "outputs": [],
   "source": [
    "identity = np.identity(4)"
   ]
  },
  {
   "cell_type": "markdown",
   "id": "9fa5fe66-9c48-4457-a6b1-b6e63cf135ea",
   "metadata": {},
   "source": [
    "Exercise 9.12"
   ]
  },
  {
   "cell_type": "code",
   "execution_count": 37,
   "id": "408b42ae-6464-42b3-8183-c63a6bc0418d",
   "metadata": {},
   "outputs": [
    {
     "name": "stdout",
     "output_type": "stream",
     "text": [
      "[36 41 45]\n",
      "[36 41]\n"
     ]
    }
   ],
   "source": [
    "vect = np.random.randint(1,50,5)\n",
    "print(vect[1:4])\n",
    "print(vect[1:-2])"
   ]
  },
  {
   "cell_type": "code",
   "execution_count": 40,
   "id": "f22ae92e-467d-411b-9b72-8b2e973436e4",
   "metadata": {},
   "outputs": [],
   "source": [
    "new_vect = vect[vect>0.15]"
   ]
  },
  {
   "cell_type": "code",
   "execution_count": 41,
   "id": "4a462011-b57b-431d-8a7b-b0f88e418016",
   "metadata": {},
   "outputs": [
    {
     "name": "stdout",
     "output_type": "stream",
     "text": [
      "[47 36 41 45  7]\n"
     ]
    }
   ],
   "source": [
    "print(new_vect)"
   ]
  },
  {
   "cell_type": "code",
   "execution_count": 48,
   "id": "4acb6a74-11e3-4c5d-b870-2611e56d1720",
   "metadata": {},
   "outputs": [
    {
     "name": "stdout",
     "output_type": "stream",
     "text": [
      "[[19 27]\n",
      " [35 39]]\n"
     ]
    }
   ],
   "source": [
    "arr1 = np.random.randint(1,50,(3,3))\n",
    "print(arr1[1:,:2])"
   ]
  },
  {
   "cell_type": "code",
   "execution_count": null,
   "id": "2714a292-4d13-4261-ac81-d8640ea8243d",
   "metadata": {},
   "outputs": [],
   "source": []
  }
 ],
 "metadata": {
  "kernelspec": {
   "display_name": "Python 3 (ipykernel)",
   "language": "python",
   "name": "python3"
  },
  "language_info": {
   "codemirror_mode": {
    "name": "ipython",
    "version": 3
   },
   "file_extension": ".py",
   "mimetype": "text/x-python",
   "name": "python",
   "nbconvert_exporter": "python",
   "pygments_lexer": "ipython3",
   "version": "3.9.12"
  }
 },
 "nbformat": 4,
 "nbformat_minor": 5
}
