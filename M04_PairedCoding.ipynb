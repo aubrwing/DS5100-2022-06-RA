{
 "cells": [
  {
   "cell_type": "markdown",
   "id": "8e78cab9-8907-43f4-a195-64ebdd3f7478",
   "metadata": {},
   "source": [
    "Exercise 4.2"
   ]
  },
  {
   "cell_type": "code",
   "execution_count": 6,
   "id": "0e7646c9-dd40-4ec5-a681-717ef5b3f24d",
   "metadata": {},
   "outputs": [],
   "source": [
    "def function1(*args):\n",
    "    for arg in args:\n",
    "        print(arg ** 2)\n",
    "    return None"
   ]
  },
  {
   "cell_type": "markdown",
   "id": "75de194b-8552-405a-a126-bf865e36e588",
   "metadata": {},
   "source": [
    "Exercise 4.5"
   ]
  },
  {
   "cell_type": "code",
   "execution_count": 8,
   "id": "68dfa7da-0dd5-41a1-a5c0-ef39a5f06f70",
   "metadata": {},
   "outputs": [
    {
     "name": "stdout",
     "output_type": "stream",
     "text": [
      "1\n",
      "4\n",
      "9\n"
     ]
    }
   ],
   "source": [
    "function1(*[1,2,3])"
   ]
  },
  {
   "cell_type": "code",
   "execution_count": 9,
   "id": "6a5b4642-a61e-4b66-8fe2-301443980a6e",
   "metadata": {},
   "outputs": [
    {
     "ename": "NameError",
     "evalue": "name 'var' is not defined",
     "output_type": "error",
     "traceback": [
      "\u001b[0;31m---------------------------------------------------------------------------\u001b[0m",
      "\u001b[0;31mNameError\u001b[0m                                 Traceback (most recent call last)",
      "Input \u001b[0;32mIn [9]\u001b[0m, in \u001b[0;36m<cell line: 5>\u001b[0;34m()\u001b[0m\n\u001b[1;32m      2\u001b[0m     var \u001b[38;5;241m=\u001b[39m \u001b[38;5;241m3\u001b[39m\n\u001b[1;32m      3\u001b[0m     \u001b[38;5;28mprint\u001b[39m(var)\n\u001b[0;32m----> 5\u001b[0m \u001b[38;5;28mprint\u001b[39m(\u001b[43mvar\u001b[49m)\n",
      "\u001b[0;31mNameError\u001b[0m: name 'var' is not defined"
     ]
    }
   ],
   "source": [
    "def fun():\n",
    "    var = 3\n",
    "    print(var)\n",
    "\n",
    "print(var)"
   ]
  },
  {
   "cell_type": "markdown",
   "id": "25a6f303-7728-4c0a-9ed6-dcf0ebffd8c4",
   "metadata": {},
   "source": [
    "Exercise 4.9"
   ]
  },
  {
   "cell_type": "code",
   "execution_count": 17,
   "id": "fd7186d5-96aa-44c2-91c0-2ce7683f93f9",
   "metadata": {},
   "outputs": [],
   "source": [
    "c2f = lambda c: 1.8*c+32\n",
    "f2c = lambda f: 1.8*(f-32)\n",
    "t2t = lambda num, temp: {'c':int(c2f(num)),'f':int(f2c(num))}[temp]"
   ]
  },
  {
   "cell_type": "code",
   "execution_count": 18,
   "id": "0d83f464-3039-4be6-ad13-44059fb637fe",
   "metadata": {},
   "outputs": [
    {
     "name": "stdout",
     "output_type": "stream",
     "text": [
      "113\n"
     ]
    }
   ],
   "source": [
    "f = t2t(45,'c')\n",
    "print(f)"
   ]
  },
  {
   "cell_type": "code",
   "execution_count": null,
   "id": "19809f72-51e1-4511-9bb8-ede3b1dc3053",
   "metadata": {},
   "outputs": [],
   "source": []
  }
 ],
 "metadata": {
  "kernelspec": {
   "display_name": "Python 3 (ipykernel)",
   "language": "python",
   "name": "python3"
  },
  "language_info": {
   "codemirror_mode": {
    "name": "ipython",
    "version": 3
   },
   "file_extension": ".py",
   "mimetype": "text/x-python",
   "name": "python",
   "nbconvert_exporter": "python",
   "pygments_lexer": "ipython3",
   "version": "3.9.12"
  }
 },
 "nbformat": 4,
 "nbformat_minor": 5
}
