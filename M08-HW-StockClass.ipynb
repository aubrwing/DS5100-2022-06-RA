{
 "cells": [
  {
   "cell_type": "markdown",
   "id": "151b5ec8-0bbb-4295-bd9f-dd8f859f7d14",
   "metadata": {},
   "source": [
    "# Metadata\n",
    "\n",
    "```\n",
    "Course:  DS 5100\n",
    "Module:  08 Python Classes\n",
    "Topic:   HW 08 Stock Class\n",
    "Author:  R.C. Alvarado\n",
    "Date:    29 June 2022\n",
    "```"
   ]
  },
  {
   "cell_type": "markdown",
   "id": "064fbfbd-1af6-4632-a34a-b795abe50863",
   "metadata": {},
   "source": [
    "# Instructions\n",
    "\n",
    "In this assignment you will define a class and perform the requested tasks.\n",
    "\n",
    "Before answering the questions, read the market data from `apple_data.csv` into a Pandas dataframe.\n",
    "\n",
    "When you are finished, submit a PDF of this notebook to Gradescope.\n",
    "\n",
    "**TOTAL POINTS: 12**"
   ]
  },
  {
   "cell_type": "markdown",
   "id": "3944560e-6dfe-4564-b716-eb7d6f176234",
   "metadata": {
    "tags": []
   },
   "source": [
    "# Student Metadata\n",
    "\n",
    "```\n",
    "Name:  Aubrey Winger\n",
    "UVAID: alw8ef\n",
    "URL:   https://github.com/aubrwing/DS5100-2022-06-RA/blob/main/M08-HW-StockClass.ipynb,\n",
    "    e.g. https://github.com/ontoligent/DS5100-2022-06-R/blob/main/lessons/M04_PythonFunctions/HW/HW04_forest_fires_function_assignment.ipynb\n",
    "```"
   ]
  },
  {
   "cell_type": "markdown",
   "id": "08b68b0a-43ba-42cc-82ed-e6f638709640",
   "metadata": {},
   "source": [
    "# Set Up"
   ]
  },
  {
   "cell_type": "code",
   "execution_count": 2,
   "id": "93702ce6-e90a-4f53-aedf-848b5fb10352",
   "metadata": {},
   "outputs": [
    {
     "data": {
      "text/html": [
       "<div>\n",
       "<style scoped>\n",
       "    .dataframe tbody tr th:only-of-type {\n",
       "        vertical-align: middle;\n",
       "    }\n",
       "\n",
       "    .dataframe tbody tr th {\n",
       "        vertical-align: top;\n",
       "    }\n",
       "\n",
       "    .dataframe thead th {\n",
       "        text-align: right;\n",
       "    }\n",
       "</style>\n",
       "<table border=\"1\" class=\"dataframe\">\n",
       "  <thead>\n",
       "    <tr style=\"text-align: right;\">\n",
       "      <th></th>\n",
       "      <th>date</th>\n",
       "      <th>adj_close</th>\n",
       "    </tr>\n",
       "  </thead>\n",
       "  <tbody>\n",
       "    <tr>\n",
       "      <th>0</th>\n",
       "      <td>2020-01-02</td>\n",
       "      <td>298.829956</td>\n",
       "    </tr>\n",
       "    <tr>\n",
       "      <th>1</th>\n",
       "      <td>2020-01-03</td>\n",
       "      <td>295.924713</td>\n",
       "    </tr>\n",
       "    <tr>\n",
       "      <th>2</th>\n",
       "      <td>2020-01-06</td>\n",
       "      <td>298.282715</td>\n",
       "    </tr>\n",
       "    <tr>\n",
       "      <th>3</th>\n",
       "      <td>2020-01-07</td>\n",
       "      <td>296.879883</td>\n",
       "    </tr>\n",
       "    <tr>\n",
       "      <th>4</th>\n",
       "      <td>2020-01-08</td>\n",
       "      <td>301.655548</td>\n",
       "    </tr>\n",
       "  </tbody>\n",
       "</table>\n",
       "</div>"
      ],
      "text/plain": [
       "         date   adj_close\n",
       "0  2020-01-02  298.829956\n",
       "1  2020-01-03  295.924713\n",
       "2  2020-01-06  298.282715\n",
       "3  2020-01-07  296.879883\n",
       "4  2020-01-08  301.655548"
      ]
     },
     "execution_count": 2,
     "metadata": {},
     "output_type": "execute_result"
    }
   ],
   "source": [
    "# CODE HERE\n",
    "import pandas as pd\n",
    "import numpy as np\n",
    "data = pd.read_csv('apple_data.csv')\n",
    "data.head()"
   ]
  },
  {
   "cell_type": "markdown",
   "id": "dcd16641-2622-4617-83ad-4e1851de2916",
   "metadata": {
    "tags": []
   },
   "source": [
    "# Q1 \n",
    "\n",
    "(5 PTS) \n",
    "\n",
    "Define a class with these features:\n",
    "\n",
    "**Class Name**: `Stock`\n",
    "\n",
    "**Attributes**:\n",
    "- `ticker`: a string to hold the stock symbol\n",
    "- `sector`: a string to hold the sector name\n",
    "- `prices`: a dataframe to hold the prices for the stock\n",
    "\n",
    "**Methods**:\n",
    "- `print_sector()` to just print out the sector string.\n",
    "- `get_row_count()` to count the number of rows in the price dataframe set an attribute \"price_records\" equal to this count.\n",
    "-`__init__(ticker, sector, prices)` to build objects."
   ]
  },
  {
   "cell_type": "code",
   "execution_count": 16,
   "id": "8629f94c-8247-485a-b9f6-f532f3f555a5",
   "metadata": {},
   "outputs": [],
   "source": [
    "# CODE HERE\n",
    "class Stock:\n",
    "    def print_sector(self):\n",
    "        print(self.sector)\n",
    "    def get_row_count(self):\n",
    "        self.price_records = len(self.prices)\n",
    "    def __init__(self,ticker, sector, prices):\n",
    "        self.ticker = ticker\n",
    "        self.sector = sector\n",
    "        self.prices = prices"
   ]
  },
  {
   "cell_type": "markdown",
   "id": "36e8edcc-1aa8-48e3-9f8c-4944a054e0e8",
   "metadata": {},
   "source": [
    "# Q2\n",
    "\n",
    "(1 PT) \n",
    "\n",
    "Create an instance of your class with the these initial values: \n",
    "- `ticker`: 'AAPL'\n",
    "- `sector`: 'technology'\n",
    "- `prices`: _the imported price dataframe_\n",
    "          \n",
    "Then Use the dot operator to print the stock's ticker.   "
   ]
  },
  {
   "cell_type": "code",
   "execution_count": 26,
   "id": "0c641f40-4723-4623-8a8d-62998fb33f54",
   "metadata": {},
   "outputs": [
    {
     "data": {
      "text/plain": [
       "'AAPL'"
      ]
     },
     "execution_count": 26,
     "metadata": {},
     "output_type": "execute_result"
    }
   ],
   "source": [
    "# CODE HERE\n",
    "myStock = Stock('AAPL','technology',data)\n",
    "myStock.ticker"
   ]
  },
  {
   "cell_type": "markdown",
   "id": "80f97759-70ee-421c-8346-ebd774b19cc6",
   "metadata": {},
   "source": [
    "# Q3 \n",
    "\n",
    "(1 PT) \n",
    "\n",
    "Use the `print_sector()` method to print the sector."
   ]
  },
  {
   "cell_type": "code",
   "execution_count": 18,
   "id": "68aa3dc1-1aa1-458c-ac9c-a0c9416f6f7a",
   "metadata": {},
   "outputs": [
    {
     "name": "stdout",
     "output_type": "stream",
     "text": [
      "technology\n"
     ]
    }
   ],
   "source": [
    "# CODE HERE\n",
    "myStock.print_sector()"
   ]
  },
  {
   "cell_type": "markdown",
   "id": "52fc8054-8867-4693-915a-f41026abd9b1",
   "metadata": {},
   "source": [
    "# Q4 \n",
    "\n",
    "(2 PTS) \n",
    "\n",
    "Use the `get_row_count()` method to compute the number of price records and set price_records.\n",
    "\n",
    "Use the dot operator to access the stock's price_records, printing the result."
   ]
  },
  {
   "cell_type": "code",
   "execution_count": 19,
   "id": "347b7ae5-b2cc-42f1-899e-661414745eaf",
   "metadata": {},
   "outputs": [
    {
     "data": {
      "text/plain": [
       "135"
      ]
     },
     "execution_count": 19,
     "metadata": {},
     "output_type": "execute_result"
    }
   ],
   "source": [
    "# CODE HERE\n",
    "myStock.get_row_count()\n",
    "myStock.price_records"
   ]
  },
  {
   "cell_type": "markdown",
   "id": "9e477fd4-c44f-49d5-b42d-dbaf1ee37521",
   "metadata": {},
   "source": [
    "# Q5\n",
    "\n",
    "(1 PT) \n",
    "\n",
    "Create a new column called 'month' and put the month number there.\n",
    "\n",
    "If your object is called `aapl`, you can do this like so:\n",
    "\n",
    "```python\n",
    "\n",
    "aapl.prices['month'] = aapl.prices['date'].str.split('-').str[1]\n",
    "\n",
    "```"
   ]
  },
  {
   "cell_type": "code",
   "execution_count": 20,
   "id": "3fbb6d08-4382-49c3-a9e2-8879c865530b",
   "metadata": {},
   "outputs": [],
   "source": [
    "# CODE HERE\n",
    "myStock.prices['month'] = myStock.prices['date'].str.split('-').str[1]"
   ]
  },
  {
   "cell_type": "markdown",
   "id": "673d38d1-b804-4bc4-98c5-a7e167371701",
   "metadata": {},
   "source": [
    "# Q6\n",
    "\n",
    "(1 PT)\n",
    "\n",
    "Use `.groupby()` to compute the mean `adj_close` by month."
   ]
  },
  {
   "cell_type": "code",
   "execution_count": 28,
   "id": "bb94ad3c-3e59-4fe3-8a6d-e46ae4969142",
   "metadata": {},
   "outputs": [
    {
     "name": "stdout",
     "output_type": "stream",
     "text": [
      "        adj_close\n",
      "month            \n",
      "01     310.337596\n",
      "02     310.271843\n",
      "03     261.735581\n",
      "04     271.650839\n",
      "05     309.785164\n",
      "06     345.806360\n",
      "07     378.385999\n"
     ]
    }
   ],
   "source": [
    "# CODE HERE\n",
    "plot_table = myStock.prices.groupby(['month']).mean()\n",
    "print(plot_table)"
   ]
  },
  {
   "cell_type": "markdown",
   "id": "6c63b7c5-dfd5-4bba-932c-0541c8d0e002",
   "metadata": {},
   "source": [
    "# Q7\n",
    "\n",
    "(1 PT)\n",
    "\n",
    "Plot the mean `adj_close` by month using a simple line plot."
   ]
  },
  {
   "cell_type": "code",
   "execution_count": 29,
   "id": "5529c213-82a8-49d2-a219-dbdd137a7ef5",
   "metadata": {},
   "outputs": [
    {
     "data": {
      "text/plain": [
       "<AxesSubplot:title={'center':'Mean Adj Close vs Month'}, xlabel='month'>"
      ]
     },
     "execution_count": 29,
     "metadata": {},
     "output_type": "execute_result"
    },
    {
     "data": {
      "image/png": "[encoded data removed]",
      "text/plain": [
       "<Figure size 432x288 with 1 Axes>"
      ]
     },
     "metadata": {
      "needs_background": "light"
     },
     "output_type": "display_data"
    }
   ],
   "source": [
    "# CODE HERE\n",
    "plot_table.plot.line(title=\"Mean Adj Close vs Month\")"
   ]
  },
  {
   "cell_type": "code",
   "execution_count": null,
   "id": "4ad73272-0754-4bd9-be3f-629cbb7fe4b4",
   "metadata": {},
   "outputs": [],
   "source": []
  },
  {
   "cell_type": "code",
   "execution_count": null,
   "id": "d3e3bed0-2eb3-4c8d-b7bb-30b1d3b8c40a",
   "metadata": {},
   "outputs": [],
   "source": []
  }
 ],
 "metadata": {
  "kernelspec": {
   "display_name": "Python 3 (ipykernel)",
   "language": "python",
   "name": "python3"
  },
  "language_info": {
   "codemirror_mode": {
    "name": "ipython",
    "version": 3
   },
   "file_extension": ".py",
   "mimetype": "text/x-python",
   "name": "python",
   "nbconvert_exporter": "python",
   "pygments_lexer": "ipython3",
   "version": "3.9.12"
  },
  "widgets": {
   "application/vnd.jupyter.widget-state+json": {
    "state": {},
    "version_major": 2,
    "version_minor": 0
   }
  }
 },
 "nbformat": 4,
 "nbformat_minor": 5
}
